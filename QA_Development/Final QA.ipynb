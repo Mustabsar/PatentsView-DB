{
 "cells": [
  {
   "cell_type": "code",
   "execution_count": 7,
   "metadata": {
    "collapsed": false
   },
   "outputs": [],
   "source": [
    "import re\n",
    "import pandas as pd\n",
    "import MySQLdb\n",
    "import sys\n",
    "from datetime import datetime\n",
    "import numpy as np\n",
    "import operator\n",
    "#update this with the path to where your config file with database credentials lives\n",
    "sys.path.append(\"D:/DataBaseUpdate/To_Clone\")\n",
    "from ConfigFiles import config_second as config #this reads in one's database credentials"
   ]
  },
  {
   "cell_type": "markdown",
   "metadata": {},
   "source": [
    "### Master QA Script ###"
   ]
  },
  {
   "cell_type": "raw",
   "metadata": {},
   "source": [
    "This is the driver script for PatentsView QA there are several distinct steps:\n",
    "\n",
    "(1) Check that the new full database compares sensibly to the previous round's new database. \n",
    "        (a) Are the counts greater by a sensible amount?\n",
    "        (b) Is the ratio of distinct to total ids comparable to what it was last year? (especially important for disambiguation)\n",
    "        (c) Are the amount of null and blank values in each column comparable to what they were last year?\n",
    "        (d) Is the latest date for patents the date we would expect and are there patents for each expected date?\n",
    "\n",
    "\n",
    "(2) Check that there is data parsed for each of the new patents. \n",
    "    (a) Check that in the update database is populated\n",
    "    (b) Check that there are patents for each year in each table with a patent identified\n",
    "\n",
    "(3) Check that any fixes from the previous \n",
    "    (a) add explicit code to check for any problem that has been identified and fixed in the previous round of database updates.\n",
    "    (b) keep the checks here from previous rounds"
   ]
  },
  {
   "cell_type": "code",
   "execution_count": 8,
   "metadata": {
    "collapsed": true
   },
   "outputs": [],
   "source": [
    "def connect():\n",
    "    mydb = MySQLdb.connect(config.host, config.username, config.password)\n",
    "    cursor = mydb.cursor()\n",
    "    return cursor"
   ]
  },
  {
   "cell_type": "markdown",
   "metadata": {},
   "source": [
    "### Step 1:"
   ]
  },
  {
   "cell_type": "code",
   "execution_count": null,
   "metadata": {
    "collapsed": true
   },
   "outputs": [],
   "source": [
    "def get_counts(db):\n",
    "    '''\n",
    "    params: database\n",
    "    returns: dictionary mapping row counts to table\n",
    "    '''\n",
    "    cursor = connect()\n",
    "    #the information_schema tables are out of date\n",
    "    cursor.execute(\"show tables from \" + db + \";\")\n",
    "    tables = [i[0] for i in cursor.fetchall()]\n",
    "    tables_dict = {}\n",
    "    for table in tables:\n",
    "        if not table.startswith('temp'):\n",
    "            cursor.execute(\"select count(*) from \" + db + \".\" + table)\n",
    "            tables_dict[table] = cursor.fetchall()[0][0]\n",
    "    return tables_dict"
   ]
  },
  {
   "cell_type": "code",
   "execution_count": null,
   "metadata": {
    "collapsed": true
   },
   "outputs": [],
   "source": [
    "get_counts('patent_20171226')"
   ]
  },
  {
   "cell_type": "code",
   "execution_count": null,
   "metadata": {
    "collapsed": false
   },
   "outputs": [],
   "source": [
    "def check_counts(old_db, new_db, ratio):\n",
    "    '''\n",
    "    Old_db  reference database to which we are comparing the new database\n",
    "    new_db  newly parsed database\n",
    "    ratio   the expected ratio in counts between the old_db and new_db, ussually 1.1\n",
    "    '''\n",
    "    old_table_dict = get_counts(old_db)\n",
    "    new_table_dict = get_counts(new_db)\n",
    "    #list of tables that we don't need to check\n",
    "    unchanging = ['cpc_subsection', 'wipo_field', 'mainclass', 'subclass', 'nber_category', 'subclass_current','nber_subcategory', 'cpc_subgroup', 'persistent_inventor_disambig']\n",
    "    for table in new_table_dict.keys():\n",
    "        try:\n",
    "            row_count_new=new_table_dict[table]\n",
    "            #we want to skip temp tables because we don't expect them to match\n",
    "            if not table.startswith('temp') and not table in unchanging:\n",
    "                if row_count_new <= old_table_dict[table]:\n",
    "                    print \"Problem: New table does not have more rows than old table \", table, \". It is \", row_count_new, \"and last time it was \", old_table_dict[table]       \n",
    "                elif not row_count_new <= old_table_dict[table] * ratio:\n",
    "                    print \"Possible Problem: Suspiciously high number of entries for \", table, \". It is \", row_count_new, \"and last time it was \", old_table_dict[table]       \n",
    "                elif not row_count_new > old_table_dict[table]:\n",
    "                    print \"Problem: No new entries for\", table, \". It is \", row_count_new, \"and last time it was \", old_table_dict[table]\n",
    "            if table in unchanging:\n",
    "                if row_count_new != old_table_dict[table]:\n",
    "                    print \"Problem: An unchanging table has a different number of rows. \", table, \" has\", row_count_new, \"and last time it has \", old_table_dict[table]\n",
    "        except:\n",
    "            print \"issue with\", table\n",
    "        "
   ]
  },
  {
   "cell_type": "code",
   "execution_count": 25,
   "metadata": {
    "collapsed": true
   },
   "outputs": [],
   "source": [
    "def ratio_distinct_to_total_ids(old_db, new_db):\n",
    "    table_column_name_dict = {'patent':'id', 'government_interest':'patent_id',  'rawlawyer': 'lawyer_id', 'rawinventor':'inventor_id', \n",
    "                             'rawassignee':'assignee_id'}\n",
    "    cursor = connect()\n",
    "    for table in table_column_name_dict:\n",
    "        query_old = \"select count(\" + table_column_name_dict[table] + \"), count(distinct \" + table_column_name_dict[table] +\") from \" + old_db +\".\" + table\n",
    "        query_new = \"select count(\" + table_column_name_dict[table] + \"), count(distinct \" + table_column_name_dict[table] +\") from \" + new_db + \".\" + table\n",
    "        cursor.execute(query_old)\n",
    "        old_counts = cursor.fetchall()[0]\n",
    "        old_ratio = old_counts[0]/float(old_counts[1])\n",
    "        cursor.execute(query_new)\n",
    "        new_counts = cursor.fetchall()[0]\n",
    "        new_ratio = new_counts[0]/float(new_counts[1])\n",
    "        diff = (old_ratio - new_ratio)/old_ratio\n",
    "        if abs(diff)<=.1:\n",
    "            print \"Ratio of Distinct Ids to Total Ids From Last Time is Reasonable for \" + table\n",
    "        else:\n",
    "            print \"Problem: Ratio of Distinct Ids to Total Ids from Last Time is Not Reasonalbe for \" , table, \" It is now, \", str(new_ratio),\" and was\"\"last time \", str(old_ratio)"
   ]
  },
  {
   "cell_type": "code",
   "execution_count": 10,
   "metadata": {
    "collapsed": false
   },
   "outputs": [],
   "source": [
    "def count_null_blank_values(old_db, new_db):\n",
    "    #first go through old tables\n",
    "    cursor = connect()\n",
    "    cursor.execute(\"show tables from \" + new_db)\n",
    "    new_table_names = [i[0] for i in cursor.fetchall()]\n",
    "    for table in new_table_names:\n",
    "        print table\n",
    "        if not table.startswith('temp'):\n",
    "            cursor.execute(\"show columns from \" + new_db + \".\" + table)\n",
    "            column_names = [i[0] for i in cursor.fetchall()]\n",
    "            try:\n",
    "                for column in column_names:\n",
    "                    print column\n",
    "                    #third count null and blank from old columns in old table3s\n",
    "                    cursor.execute(\"select count(*) from \"+ new_db + \".\" + table + \" where \" + column + \" is null or \" + column + \" = '';\")\n",
    "                    null_blank_new=cursor.fetchall()[0][0]\n",
    "                    cursor.execute(\"select count(*) from \"+ old_db + \".\" + table + \" where \" + column + \" is null or \" + column + \" = '';\")\n",
    "                    null_blank_old=cursor.fetchall()[0][0]\n",
    "                    #we'd expect new tables to have a few more null or blank values because they have more rows\n",
    "                    if not null_blank_new <= null_blank_old * 1.1:\n",
    "                        print \"Problem: Count of Null and Blank Values is NOT Reasonable.For \", table, column, \" it is \",  null_blank_new, \"and last time it was \", null_blank_old\n",
    "            except:\n",
    "                print \"Execution error with \", table, column"
   ]
  },
  {
   "cell_type": "code",
   "execution_count": 29,
   "metadata": {
    "collapsed": false
   },
   "outputs": [],
   "source": [
    "def check_latest_date(new_db, last_date = '2017-10-03'):\n",
    "    cursor = connect()\n",
    "    cursor.execute(\"select date from \" + new_db + \".patent order by date desc limit 1;\")\n",
    "    found_date=cursor.fetchall()[0][0]\n",
    "    actual_date = datetime.strptime(last_date, '%Y-%m-%d').date()\n",
    "    #date_check\n",
    "    if found_date != actual_date:\n",
    "        print \"The latest date is, \", str(found_date), \"and it should be, \", str(actual_date)\n",
    "    else:\n",
    "        print \"date matches\""
   ]
  },
  {
   "cell_type": "markdown",
   "metadata": {},
   "source": [
    "### Step 2"
   ]
  },
  {
   "cell_type": "code",
   "execution_count": 34,
   "metadata": {
    "collapsed": true
   },
   "outputs": [],
   "source": [
    "def check_data_exists(update_db):\n",
    "    tables = get_counts(update_db)\n",
    "    for table, count in tables.iteritems():\n",
    "        if count <1000:\n",
    "            print table, str(count)\n",
    "    "
   ]
  },
  {
   "cell_type": "code",
   "execution_count": 101,
   "metadata": {
    "collapsed": false
   },
   "outputs": [],
   "source": [
    "def check_year_groupings(new_db):\n",
    "    cursor = connect()\n",
    "    cursor.execute(\"show tables from \" + new_db + \";\")\n",
    "    non_patent = ['location_assignee', 'rawlocation', 'mainclass_current', 'uspc_current_to_insert', 'location_inventor','government_organization','rl_temporary_update', 'inventor','lawyer', 'assignee', 'location', 'cpc_subsection', 'wipo_field', 'mainclass', 'cpc_group', 'subclass', 'nber_category', 'subclass_current','nber_subcategory', 'cpc_subgroup', 'persistent_inventor_disambig']\n",
    "    tables = [i[0] for i in cursor.fetchall() if not i[0] in non_patent and not i[0].startswith(\"temp\")]\n",
    "    restart = 25\n",
    "    for table in tables:\n",
    "        print table\n",
    "        cursor.execute('select year(p.date) as year, count(*) from ' + new_db + \".\" + table + ' t left join ' + new_db +'.'+ 'patent p on t.patent_id = p.id group by year(p.date) order by year')\n",
    "        patents_per_year = cursor.fetchall()\n",
    "        total = sum([i[1] for i in patents_per_year])\n",
    "        earliest = min([i[0] for i in patents_per_year if i[0]  is not None and i[0] != ''])\n",
    "        print restart, table, earliest\n",
    "        restart +=1\n",
    "        full_year_list = [i for i in xrange(earliest, 2018)]\n",
    "        found_year_list = [int(i[0]) for i in patents_per_year if i[0]  is not None and i[0] != '']\n",
    "        if set(full_year_list) != set(found_year_list):\n",
    "            print \"Missing year\"\n",
    "            print set(full_year_list) - set(found_year_list)\n",
    "        previous_year_total = 0\n",
    "        for year in patents_per_year:\n",
    "            if year[1] < previous_year_total:\n",
    "                print \"Fewer patents than in previous year\",year[0], year[1], previous_year_total\n",
    "            previous_year_total = year[1]\n",
    "        print \"-------------------------------------------\"\n",
    "\n",
    "            \n",
    "            \n",
    "                "
   ]
  },
  {
   "cell_type": "code",
   "execution_count": 11,
   "metadata": {
    "collapsed": true
   },
   "outputs": [],
   "source": [
    "def check_lengths(merged_db):\n",
    "    cursor = connect()\n",
    "    cursor.execute('use ' + merged_db)\n",
    "    cursor.execute('select count(*) from detail_desc_text where length  < 65540 and length > 65530')\n",
    "    cutoff = cursor.execute()[0][0]\n",
    "    cursor.execute('select count(*) from detail_desc_text where length  < 65550 and length > 65540')\n",
    "    higher = cursor.execute()[0][0]\n",
    "    print cutoff\n",
    "    print higher\n",
    "    if cutoff > 2*higher:\n",
    "        print \"Data problem\""
   ]
  },
  {
   "cell_type": "markdown",
   "metadata": {},
   "source": [
    "#### Run Check Ins"
   ]
  },
  {
   "cell_type": "code",
   "execution_count": 12,
   "metadata": {
    "collapsed": false
   },
   "outputs": [
    {
     "ename": "TypeError",
     "evalue": "execute() takes at least 2 arguments (1 given)",
     "output_type": "error",
     "traceback": [
      "\u001b[0;31m---------------------------------------------------------------------------\u001b[0m",
      "\u001b[0;31mTypeError\u001b[0m                                 Traceback (most recent call last)",
      "\u001b[0;32m<ipython-input-12-513151ba9495>\u001b[0m in \u001b[0;36m<module>\u001b[0;34m()\u001b[0m\n\u001b[0;32m----> 1\u001b[0;31m \u001b[0mcheck_lengths\u001b[0m\u001b[1;33m(\u001b[0m\u001b[1;34m'patent_20171226'\u001b[0m\u001b[1;33m)\u001b[0m\u001b[1;33m\u001b[0m\u001b[0m\n\u001b[0m",
      "\u001b[0;32m<ipython-input-11-d5afdd0b34ed>\u001b[0m in \u001b[0;36mcheck_lengths\u001b[0;34m(merged_db)\u001b[0m\n\u001b[1;32m      3\u001b[0m     \u001b[0mcursor\u001b[0m\u001b[1;33m.\u001b[0m\u001b[0mexecute\u001b[0m\u001b[1;33m(\u001b[0m\u001b[1;34m'use '\u001b[0m \u001b[1;33m+\u001b[0m \u001b[0mmerged_db\u001b[0m\u001b[1;33m)\u001b[0m\u001b[1;33m\u001b[0m\u001b[0m\n\u001b[1;32m      4\u001b[0m     \u001b[0mcursor\u001b[0m\u001b[1;33m.\u001b[0m\u001b[0mexecute\u001b[0m\u001b[1;33m(\u001b[0m\u001b[1;34m'select count(*) from detail_desc_text where length  < 65540 and length > 65530'\u001b[0m\u001b[1;33m)\u001b[0m\u001b[1;33m\u001b[0m\u001b[0m\n\u001b[0;32m----> 5\u001b[0;31m     \u001b[0mcutoff\u001b[0m \u001b[1;33m=\u001b[0m \u001b[0mcursor\u001b[0m\u001b[1;33m.\u001b[0m\u001b[0mexecute\u001b[0m\u001b[1;33m(\u001b[0m\u001b[1;33m)\u001b[0m\u001b[1;33m[\u001b[0m\u001b[1;36m0\u001b[0m\u001b[1;33m]\u001b[0m\u001b[1;33m[\u001b[0m\u001b[1;36m0\u001b[0m\u001b[1;33m]\u001b[0m\u001b[1;33m\u001b[0m\u001b[0m\n\u001b[0m\u001b[1;32m      6\u001b[0m     \u001b[0mcursor\u001b[0m\u001b[1;33m.\u001b[0m\u001b[0mexecute\u001b[0m\u001b[1;33m(\u001b[0m\u001b[1;34m'select count(*) from detail_desc_text where length  < 65550 and length > 65540'\u001b[0m\u001b[1;33m)\u001b[0m\u001b[1;33m\u001b[0m\u001b[0m\n\u001b[1;32m      7\u001b[0m     \u001b[0mhigher\u001b[0m \u001b[1;33m=\u001b[0m \u001b[0mcursor\u001b[0m\u001b[1;33m.\u001b[0m\u001b[0mexecute\u001b[0m\u001b[1;33m(\u001b[0m\u001b[1;33m)\u001b[0m\u001b[1;33m[\u001b[0m\u001b[1;36m0\u001b[0m\u001b[1;33m]\u001b[0m\u001b[1;33m[\u001b[0m\u001b[1;36m0\u001b[0m\u001b[1;33m]\u001b[0m\u001b[1;33m\u001b[0m\u001b[0m\n",
      "\u001b[0;31mTypeError\u001b[0m: execute() takes at least 2 arguments (1 given)"
     ]
    }
   ],
   "source": [
    "check_lengths('patent_20171226')"
   ]
  },
  {
   "cell_type": "code",
   "execution_count": null,
   "metadata": {
    "collapsed": true
   },
   "outputs": [],
   "source": [
    "check_year_groupings('patent_20171226')"
   ]
  },
  {
   "cell_type": "code",
   "execution_count": 36,
   "metadata": {
    "collapsed": false
   },
   "outputs": [
    {
     "name": "stdout",
     "output_type": "stream",
     "text": [
      "assignee 0\n",
      "lawyer 0\n",
      "patent_govintorg 0\n",
      "government_interest 0\n",
      "mainclass_current 0\n",
      "patent_contractawardnumber 0\n",
      "location 0\n",
      "nber_category 0\n",
      "patent_lawyer 0\n",
      "nber 0\n",
      "subclass_current 0\n",
      "government_organization 0\n",
      "wipo 0\n",
      "inventor 0\n",
      "botanic 331\n",
      "patent_inventor 0\n",
      "cpc_group 0\n",
      "location_inventor 0\n",
      "location_assignee 0\n",
      "patent_assignee 0\n",
      "cpc_current 0\n",
      "uspc_current 0\n"
     ]
    }
   ],
   "source": [
    "check_data_exists('jan_upload')"
   ]
  },
  {
   "cell_type": "code",
   "execution_count": 23,
   "metadata": {
    "collapsed": false
   },
   "outputs": [
    {
     "name": "stdout",
     "output_type": "stream",
     "text": [
      "Possible Problem: Suspiciously high number of entries for  lawyer . It is  167828 and last time it was  8204\n",
      "issue with rl_temporary_update\n",
      "issue with uspc_current_to_insert\n",
      "Problem: New table does not have more rows than old table  mainclass_current . It is  511 and last time it was  511\n",
      "Possible Problem: Suspiciously high number of entries for  non_inventor_applicant . It is  708100 and last time it was  643616\n",
      "Problem: New table does not have more rows than old table  nber_category . It is  6 and last time it was  6\n",
      "Possible Problem: Suspiciously high number of entries for  patent_lawyer . It is  7380033 and last time it was  663326\n",
      "Problem: New table does not have more rows than old table  nber . It is  5105937 and last time it was  5105937\n",
      "Problem: New table does not have more rows than old table  subclass_current . It is  171053 and last time it was  171053\n",
      "Problem: New table does not have more rows than old table  cpc_group . It is  656 and last time it was  656\n",
      "Possible Problem: Suspiciously high number of entries for  location_inventor . It is  7327926 and last time it was  3557147\n"
     ]
    }
   ],
   "source": [
    "#slow becuase it has to run counts on all the tables\n",
    "check_counts('patent_20171003', 'patent_20171226', 1.1)"
   ]
  },
  {
   "cell_type": "code",
   "execution_count": 26,
   "metadata": {
    "collapsed": false
   },
   "outputs": [
    {
     "name": "stdout",
     "output_type": "stream",
     "text": [
      "Ratio of Distinct Ids to Total Ids From Last Time is Reasonable for patent\n",
      "Ratio of Distinct Ids to Total Ids From Last Time is Reasonable for rawassignee\n",
      "Ratio of Distinct Ids to Total Ids From Last Time is Reasonable for rawlawyer\n",
      "Ratio of Distinct Ids to Total Ids From Last Time is Reasonable for government_interest\n",
      "Ratio of Distinct Ids to Total Ids From Last Time is Reasonable for rawinventor\n"
     ]
    }
   ],
   "source": [
    "ratio_distinct_to_total_ids('patent_20171003', 'patent_20171226')"
   ]
  },
  {
   "cell_type": "code",
   "execution_count": 31,
   "metadata": {
    "collapsed": false,
    "scrolled": true
   },
   "outputs": [
    {
     "name": "stdout",
     "output_type": "stream",
     "text": [
      "application\n",
      "id\n",
      "patent_id\n",
      "type\n",
      "number\n",
      "country\n",
      "date\n"
     ]
    },
    {
     "name": "stderr",
     "output_type": "stream",
     "text": [
      "C:\\Program Files\\Anaconda2\\lib\\site-packages\\ipykernel\\__main__.py:14: Warning: Incorrect date value: '' for column 'date' at row 1\n",
      "C:\\Program Files\\Anaconda2\\lib\\site-packages\\ipykernel\\__main__.py:16: Warning: Incorrect date value: '' for column 'date' at row 1\n"
     ]
    },
    {
     "name": "stdout",
     "output_type": "stream",
     "text": [
      "id_transformed\n",
      "number_transformed\n",
      "series_code_transformed_from_type\n",
      "assignee\n",
      "id\n",
      "type\n",
      "name_first\n",
      "name_last\n",
      "organization\n",
      "botanic\n",
      "uuid\n",
      "patent_id\n",
      "latin_name\n",
      "variety\n",
      "Problem: Count of Null and Blank Values is NOT Reasonable.For  botanic variety  it is  4 and last time it was  3\n",
      "brf_sum_text\n",
      "uuid\n",
      "patent_id\n",
      "text\n",
      "claim\n",
      "uuid\n",
      "patent_id\n",
      "text\n",
      "dependent\n",
      "sequence\n",
      "exemplary\n",
      "cpc_current\n",
      "uuid\n",
      "patent_id\n",
      "section_id\n",
      "subsection_id\n",
      "group_id\n",
      "subgroup_id\n",
      "category\n",
      "sequence\n",
      "cpc_group\n",
      "id\n",
      "title\n",
      "cpc_subgroup\n",
      "id\n",
      "title\n",
      "cpc_subsection\n",
      "id\n",
      "title\n",
      "detail_desc_text\n",
      "uuid\n",
      "patent_id\n",
      "text\n",
      "length\n"
     ]
    },
    {
     "ename": "OperationalError",
     "evalue": "(1054, \"Unknown column 'length' in 'where clause'\")",
     "output_type": "error",
     "traceback": [
      "\u001b[0;31m---------------------------------------------------------------------------\u001b[0m",
      "\u001b[0;31mOperationalError\u001b[0m                          Traceback (most recent call last)",
      "\u001b[0;32m<ipython-input-31-d5899078c1c3>\u001b[0m in \u001b[0;36m<module>\u001b[0;34m()\u001b[0m\n\u001b[0;32m----> 1\u001b[0;31m \u001b[0mcount_null_blank_values\u001b[0m\u001b[1;33m(\u001b[0m\u001b[1;34m'patent_20171003'\u001b[0m\u001b[1;33m,\u001b[0m \u001b[1;34m'patent_20171226'\u001b[0m\u001b[1;33m)\u001b[0m\u001b[1;33m\u001b[0m\u001b[0m\n\u001b[0m",
      "\u001b[0;32m<ipython-input-28-48c13bb1698f>\u001b[0m in \u001b[0;36mcount_null_blank_values\u001b[0;34m(old_db, new_db)\u001b[0m\n\u001b[1;32m     14\u001b[0m                 \u001b[0mcursor\u001b[0m\u001b[1;33m.\u001b[0m\u001b[0mexecute\u001b[0m\u001b[1;33m(\u001b[0m\u001b[1;34m\"select count(*) from \"\u001b[0m\u001b[1;33m+\u001b[0m \u001b[0mnew_db\u001b[0m \u001b[1;33m+\u001b[0m \u001b[1;34m\".\"\u001b[0m \u001b[1;33m+\u001b[0m \u001b[0mtable\u001b[0m \u001b[1;33m+\u001b[0m \u001b[1;34m\" where \"\u001b[0m \u001b[1;33m+\u001b[0m \u001b[0mcolumn\u001b[0m \u001b[1;33m+\u001b[0m \u001b[1;34m\" is null or \"\u001b[0m \u001b[1;33m+\u001b[0m \u001b[0mcolumn\u001b[0m \u001b[1;33m+\u001b[0m \u001b[1;34m\" = '';\"\u001b[0m\u001b[1;33m)\u001b[0m\u001b[1;33m\u001b[0m\u001b[0m\n\u001b[1;32m     15\u001b[0m                 \u001b[0mnull_blank_new\u001b[0m\u001b[1;33m=\u001b[0m\u001b[0mcursor\u001b[0m\u001b[1;33m.\u001b[0m\u001b[0mfetchall\u001b[0m\u001b[1;33m(\u001b[0m\u001b[1;33m)\u001b[0m\u001b[1;33m[\u001b[0m\u001b[1;36m0\u001b[0m\u001b[1;33m]\u001b[0m\u001b[1;33m[\u001b[0m\u001b[1;36m0\u001b[0m\u001b[1;33m]\u001b[0m\u001b[1;33m\u001b[0m\u001b[0m\n\u001b[0;32m---> 16\u001b[0;31m                 \u001b[0mcursor\u001b[0m\u001b[1;33m.\u001b[0m\u001b[0mexecute\u001b[0m\u001b[1;33m(\u001b[0m\u001b[1;34m\"select count(*) from \"\u001b[0m\u001b[1;33m+\u001b[0m \u001b[0mold_db\u001b[0m \u001b[1;33m+\u001b[0m \u001b[1;34m\".\"\u001b[0m \u001b[1;33m+\u001b[0m \u001b[0mtable\u001b[0m \u001b[1;33m+\u001b[0m \u001b[1;34m\" where \"\u001b[0m \u001b[1;33m+\u001b[0m \u001b[0mcolumn\u001b[0m \u001b[1;33m+\u001b[0m \u001b[1;34m\" is null or \"\u001b[0m \u001b[1;33m+\u001b[0m \u001b[0mcolumn\u001b[0m \u001b[1;33m+\u001b[0m \u001b[1;34m\" = '';\"\u001b[0m\u001b[1;33m)\u001b[0m\u001b[1;33m\u001b[0m\u001b[0m\n\u001b[0m\u001b[1;32m     17\u001b[0m                 \u001b[0mnull_blank_old\u001b[0m\u001b[1;33m=\u001b[0m\u001b[0mcursor\u001b[0m\u001b[1;33m.\u001b[0m\u001b[0mfetchall\u001b[0m\u001b[1;33m(\u001b[0m\u001b[1;33m)\u001b[0m\u001b[1;33m[\u001b[0m\u001b[1;36m0\u001b[0m\u001b[1;33m]\u001b[0m\u001b[1;33m[\u001b[0m\u001b[1;36m0\u001b[0m\u001b[1;33m]\u001b[0m\u001b[1;33m\u001b[0m\u001b[0m\n\u001b[1;32m     18\u001b[0m                 \u001b[1;31m#we'd expect new tables to have a few more null or blank values because they have more rows\u001b[0m\u001b[1;33m\u001b[0m\u001b[1;33m\u001b[0m\u001b[0m\n",
      "\u001b[0;32mC:\\Program Files\\Anaconda2\\lib\\site-packages\\MySQLdb\\cursors.pyc\u001b[0m in \u001b[0;36mexecute\u001b[0;34m(self, query, args)\u001b[0m\n\u001b[1;32m    203\u001b[0m             \u001b[1;32mdel\u001b[0m \u001b[0mtb\u001b[0m\u001b[1;33m\u001b[0m\u001b[0m\n\u001b[1;32m    204\u001b[0m             \u001b[0mself\u001b[0m\u001b[1;33m.\u001b[0m\u001b[0mmessages\u001b[0m\u001b[1;33m.\u001b[0m\u001b[0mappend\u001b[0m\u001b[1;33m(\u001b[0m\u001b[1;33m(\u001b[0m\u001b[0mexc\u001b[0m\u001b[1;33m,\u001b[0m \u001b[0mvalue\u001b[0m\u001b[1;33m)\u001b[0m\u001b[1;33m)\u001b[0m\u001b[1;33m\u001b[0m\u001b[0m\n\u001b[0;32m--> 205\u001b[0;31m             \u001b[0mself\u001b[0m\u001b[1;33m.\u001b[0m\u001b[0merrorhandler\u001b[0m\u001b[1;33m(\u001b[0m\u001b[0mself\u001b[0m\u001b[1;33m,\u001b[0m \u001b[0mexc\u001b[0m\u001b[1;33m,\u001b[0m \u001b[0mvalue\u001b[0m\u001b[1;33m)\u001b[0m\u001b[1;33m\u001b[0m\u001b[0m\n\u001b[0m\u001b[1;32m    206\u001b[0m         \u001b[0mself\u001b[0m\u001b[1;33m.\u001b[0m\u001b[0m_executed\u001b[0m \u001b[1;33m=\u001b[0m \u001b[0mquery\u001b[0m\u001b[1;33m\u001b[0m\u001b[0m\n\u001b[1;32m    207\u001b[0m         \u001b[1;32mif\u001b[0m \u001b[1;32mnot\u001b[0m \u001b[0mself\u001b[0m\u001b[1;33m.\u001b[0m\u001b[0m_defer_warnings\u001b[0m\u001b[1;33m:\u001b[0m \u001b[0mself\u001b[0m\u001b[1;33m.\u001b[0m\u001b[0m_warning_check\u001b[0m\u001b[1;33m(\u001b[0m\u001b[1;33m)\u001b[0m\u001b[1;33m\u001b[0m\u001b[0m\n",
      "\u001b[0;32mC:\\Program Files\\Anaconda2\\lib\\site-packages\\MySQLdb\\connections.pyc\u001b[0m in \u001b[0;36mdefaulterrorhandler\u001b[0;34m(***failed resolving arguments***)\u001b[0m\n\u001b[1;32m     34\u001b[0m     \u001b[1;32mdel\u001b[0m \u001b[0mcursor\u001b[0m\u001b[1;33m\u001b[0m\u001b[0m\n\u001b[1;32m     35\u001b[0m     \u001b[1;32mdel\u001b[0m \u001b[0mconnection\u001b[0m\u001b[1;33m\u001b[0m\u001b[0m\n\u001b[0;32m---> 36\u001b[0;31m     \u001b[1;32mraise\u001b[0m \u001b[0merrorclass\u001b[0m\u001b[1;33m,\u001b[0m \u001b[0merrorvalue\u001b[0m\u001b[1;33m\u001b[0m\u001b[0m\n\u001b[0m\u001b[1;32m     37\u001b[0m \u001b[1;33m\u001b[0m\u001b[0m\n\u001b[1;32m     38\u001b[0m \u001b[0mre_numeric_part\u001b[0m \u001b[1;33m=\u001b[0m \u001b[0mre\u001b[0m\u001b[1;33m.\u001b[0m\u001b[0mcompile\u001b[0m\u001b[1;33m(\u001b[0m\u001b[1;34mr\"^(\\d+)\"\u001b[0m\u001b[1;33m)\u001b[0m\u001b[1;33m\u001b[0m\u001b[0m\n",
      "\u001b[0;31mOperationalError\u001b[0m: (1054, \"Unknown column 'length' in 'where clause'\")"
     ]
    }
   ],
   "source": [
    "count_null_blank_values('patent_20171003', 'patent_20171226')"
   ]
  },
  {
   "cell_type": "code",
   "execution_count": 30,
   "metadata": {
    "collapsed": false
   },
   "outputs": [
    {
     "name": "stdout",
     "output_type": "stream",
     "text": [
      "date matches\n"
     ]
    }
   ],
   "source": [
    "check_latest_date('patent_20171226', last_date = '2017-12-26')"
   ]
  },
  {
   "cell_type": "code",
   "execution_count": null,
   "metadata": {
    "collapsed": true
   },
   "outputs": [],
   "source": []
  }
 ],
 "metadata": {
  "anaconda-cloud": {},
  "kernelspec": {
   "display_name": "Python [conda root]",
   "language": "python",
   "name": "conda-root-py"
  },
  "language_info": {
   "codemirror_mode": {
    "name": "ipython",
    "version": 2
   },
   "file_extension": ".py",
   "mimetype": "text/x-python",
   "name": "python",
   "nbconvert_exporter": "python",
   "pygments_lexer": "ipython2",
   "version": "2.7.12"
  }
 },
 "nbformat": 4,
 "nbformat_minor": 1
}
