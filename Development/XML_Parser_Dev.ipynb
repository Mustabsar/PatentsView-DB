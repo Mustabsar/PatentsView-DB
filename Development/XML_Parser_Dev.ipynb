{
 "cells": [
  {
   "cell_type": "code",
   "execution_count": 1,
   "metadata": {
    "collapsed": false
   },
   "outputs": [],
   "source": [
    "import os\n",
    "import sys\n",
    "import re\n",
    "#update with the path to your config file\n",
    "sys.path.append(\"F:\\Caitlin_PV\\Config_File\")\n",
    "import pv_config as config\n",
    "\n",
    "from lxml import etree\n",
    "import csv\n",
    "import unittest\n",
    "from collections import defaultdict"
   ]
  },
  {
   "cell_type": "markdown",
   "metadata": {},
   "source": [
    "## Clean Code"
   ]
  },
  {
   "cell_type": "markdown",
   "metadata": {},
   "source": [
    "#### Helper Functions"
   ]
  },
  {
   "cell_type": "code",
   "execution_count": 2,
   "metadata": {
    "collapsed": true
   },
   "outputs": [],
   "source": [
    "def get_xml(valid_xml_file):\n",
    "    '''\n",
    "    Return a xml object with patent data\n",
    "    :param valid_xml_file: a valid xml object\n",
    "    :return the root object of the xml file, ready to parse\n",
    "    '''\n",
    "    tree = etree.parse(valid_xml_file)\n",
    "    root = tree.getroot()\n",
    "    return root"
   ]
  },
  {
   "cell_type": "code",
   "execution_count": 3,
   "metadata": {
    "collapsed": true
   },
   "outputs": [],
   "source": [
    "def process_patent_numbers(raw_patent_num):\n",
    "    '''\n",
    "    Helper function ot transform patent ids into thier final format\n",
    "    :param raw_patent_num: patent number extracted from the raw XML\n",
    "    :return cleaned patent id.\n",
    "    '''\n",
    "    num = re.findall('\\d+', raw_patent_num)[0] #get the just numbers in string form\n",
    "    if num[0].startswith(\"0\"):\n",
    "        num = num[1:]\n",
    "        let = re.findall('[a-zA-Z]+', raw_patent_num) #get the letter prefixes\n",
    "    if let:\n",
    "        let = let[0]#list to string\n",
    "        clean_patent_num = let + num\n",
    "    else:\n",
    "        clean_patent_num = num\n",
    "    return clean_patent_num\n",
    "    "
   ]
  },
  {
   "cell_type": "code",
   "execution_count": 4,
   "metadata": {
    "collapsed": true
   },
   "outputs": [],
   "source": [
    "def process_date(date): \n",
    "    '''\n",
    "    Takes a date formated as 6 numbers and returns it with dashes and days that are 00 replaced with 01\n",
    "    :params date: a date object formatted as 6 numbers\n",
    "    :returns cleaned up date\n",
    "    '''\n",
    "    if date is not None:\n",
    "        if date[6:] != \"00\":\n",
    "            date = date[:4]+'-'+date[4:6]+'-'+date[6:]\n",
    "        else:\n",
    "            date = date[:4]+'-'+date[4:6]+'-'+'01'\n",
    "    return date"
   ]
  },
  {
   "cell_type": "code",
   "execution_count": 5,
   "metadata": {
    "collapsed": true
   },
   "outputs": [],
   "source": [
    "def recursive_children(xml_element, parent_field=\"\"):\n",
    "    '''\n",
    "    :params xml_element: xml object can be nested\n",
    "    :params parent_field: parent of nested xml object\n",
    "    :returns a dictionary of the tags and texts of nested xml object\n",
    "    '''\n",
    "    test_list = []\n",
    "    if len(xml_element)==0:\n",
    "        if parent_field:\n",
    "            test_list.append((parent_field+\"-\"+xml_element.tag, xml_element.text))\n",
    "        else:\n",
    "            test_list.append((xml_element.tag, xml_element.text)) \n",
    "        #print xml_element.tag, xml_element.text\n",
    "    else:\n",
    "        parent_field = xml_element.tag\n",
    "        for element in xml_element:\n",
    "            test_list += recursive_children(element, parent_field)\n",
    "\n",
    "    return test_list"
   ]
  },
  {
   "cell_type": "markdown",
   "metadata": {},
   "source": [
    "#### Data Functions"
   ]
  },
  {
   "cell_type": "code",
   "execution_count": 195,
   "metadata": {
    "collapsed": true
   },
   "outputs": [],
   "source": [
    "def get_entity(patent, entity_name, attribute_list=None):\n",
    "    '''\n",
    "    :params patent: take the xml object representing a patent\n",
    "    :params entity_name: a string with the xml tag for an entity with single or multiple entities\n",
    "    :returns a list of default dictionaries with all the data for the entity and processes dates\n",
    "    '''\n",
    "    var_list=[]\n",
    "    xml = patent.findall('.//'+entity_name)\n",
    "    for field in xml:\n",
    "        data={}\n",
    "        if attribute_list:\n",
    "            for attribute in attribute_list:\n",
    "                data[attribute]=field.attrib[attribute]\n",
    "        #recursive function modifies data dictionary defined above\n",
    "        results_list = recursive_children(field)\n",
    "        data.update(dict(results_list))\n",
    "        for key in data.keys():\n",
    "            if 'date' in key:\n",
    "                data[key] = process_date(data[key])\n",
    "        var_list.append(data)\n",
    "    return var_list"
   ]
  },
  {
   "cell_type": "code",
   "execution_count": null,
   "metadata": {
    "collapsed": true
   },
   "outputs": [],
   "source": []
  },
  {
   "cell_type": "code",
   "execution_count": 56,
   "metadata": {
    "collapsed": true
   },
   "outputs": [],
   "source": []
  },
  {
   "cell_type": "markdown",
   "metadata": {},
   "source": [
    "### Processed Entities"
   ]
  },
  {
   "cell_type": "code",
   "execution_count": 57,
   "metadata": {
    "collapsed": true
   },
   "outputs": [],
   "source": [
    "#Single\n",
    "#number-of-claims\n",
    "#us-application-series code\n",
    "#figures\n",
    "#pct-or-regional-publishing-data\n",
    "#us-term-of-grant\n",
    "#pct-or-regional-filing-data\n",
    "#publication-reference: this gives you the patent data\n",
    "#application-reference, attribute_list=['appl-type']\n",
    "#invention-title, attribute_list=['id']\n",
    "#us-application-series-code\n",
    "#us-botanic\n",
    "\n",
    "\n",
    "#Multiple\n",
    "#us-exemplary-claim\n",
    "#classifications-ipcr\n",
    "#classification-national\n",
    "#inventors\n",
    "#us-references-cited\n",
    "#assignees\n",
    "#'us-applicants', attribute_list=['sequence', 'app-type', 'designation', 'applicant-authority-category'\n",
    "#'inventors', attribute_list=['sequence', 'designation']\n",
    "#'agents', attribute_list=['sequence', 'rep-type']\n",
    "#us_related_docs\n"
   ]
  },
  {
   "cell_type": "markdown",
   "metadata": {},
   "source": [
    "## To Run Process"
   ]
  },
  {
   "cell_type": "code",
   "execution_count": 10,
   "metadata": {
    "collapsed": false
   },
   "outputs": [],
   "source": [
    "patents = get_xml(\"D:\\Caitlin_PV\\Data\\ipg171212_clean.xml\")"
   ]
  },
  {
   "cell_type": "markdown",
   "metadata": {},
   "source": [
    "## Working Area"
   ]
  },
  {
   "cell_type": "code",
   "execution_count": null,
   "metadata": {
    "collapsed": true
   },
   "outputs": [],
   "source": []
  },
  {
   "cell_type": "code",
   "execution_count": 11,
   "metadata": {
    "collapsed": false
   },
   "outputs": [
    {
     "data": {
      "text/plain": [
       "<Element us-patent-grant at 0x2436b48>"
      ]
     },
     "execution_count": 11,
     "metadata": {},
     "output_type": "execute_result"
    }
   ],
   "source": [
    "patents #is an xml-tree object that has all the patents an information\n",
    "patents[104] #is the element that represnts the 104th patent "
   ]
  },
  {
   "cell_type": "code",
   "execution_count": 12,
   "metadata": {
    "collapsed": true
   },
   "outputs": [],
   "source": [
    "#The main highest level grouings are things like 'abstract','figures', and 'us-bibliographic-data-grant\n",
    "#'us-bibliographic-data-grant' has most of the fields we are working with"
   ]
  },
  {
   "cell_type": "code",
   "execution_count": 205,
   "metadata": {
    "collapsed": true
   },
   "outputs": [],
   "source": [
    "patent = patents[3705]"
   ]
  },
  {
   "cell_type": "markdown",
   "metadata": {},
   "source": [
    "### PostProcessing"
   ]
  },
  {
   "cell_type": "code",
   "execution_count": null,
   "metadata": {
    "collapsed": true
   },
   "outputs": [],
   "source": [
    "#TODO role for examiners"
   ]
  },
  {
   "cell_type": "code",
   "execution_count": null,
   "metadata": {
    "collapsed": true
   },
   "outputs": [],
   "source": [
    "#TODO #classification-national post processing, line 556"
   ]
  },
  {
   "cell_type": "code",
   "execution_count": null,
   "metadata": {
    "collapsed": false
   },
   "outputs": [],
   "source": []
  },
  {
   "cell_type": "code",
   "execution_count": null,
   "metadata": {
    "collapsed": true
   },
   "outputs": [],
   "source": []
  },
  {
   "cell_type": "code",
   "execution_count": null,
   "metadata": {
    "collapsed": false
   },
   "outputs": [],
   "source": []
  },
  {
   "cell_type": "code",
   "execution_count": null,
   "metadata": {
    "collapsed": false
   },
   "outputs": [],
   "source": []
  },
  {
   "cell_type": "code",
   "execution_count": null,
   "metadata": {
    "collapsed": false
   },
   "outputs": [],
   "source": []
  },
  {
   "cell_type": "code",
   "execution_count": null,
   "metadata": {
    "collapsed": true
   },
   "outputs": [],
   "source": []
  },
  {
   "cell_type": "markdown",
   "metadata": {},
   "source": [
    "### To do"
   ]
  },
  {
   "cell_type": "code",
   "execution_count": null,
   "metadata": {
    "collapsed": true
   },
   "outputs": [],
   "source": []
  }
 ],
 "metadata": {
  "anaconda-cloud": {},
  "kernelspec": {
   "display_name": "Python [default]",
   "language": "python",
   "name": "python2"
  },
  "language_info": {
   "codemirror_mode": {
    "name": "ipython",
    "version": 2
   },
   "file_extension": ".py",
   "mimetype": "text/x-python",
   "name": "python",
   "nbconvert_exporter": "python",
   "pygments_lexer": "ipython2",
   "version": "2.7.12"
  }
 },
 "nbformat": 4,
 "nbformat_minor": 1
}
